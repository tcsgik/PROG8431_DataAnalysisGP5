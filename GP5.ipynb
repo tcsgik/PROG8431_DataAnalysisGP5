{
 "cells": [
  {
   "cell_type": "markdown",
   "id": "718e318c",
   "metadata": {},
   "source": [
    "# 🚀 Space Launch Mission Success Analysis\n",
    "##  Group Presentation 5\n",
    "\n",
    "**Team Members:**  \n",
    "- Reham Abuarqoub, 9062922\n",
    "- Erica Holden, 5490685\n",
    "- Yu-Chen Chou (Tracy), 9006160 \n",
    "\n"
   ]
  },
  {
   "cell_type": "markdown",
   "id": "06677103",
   "metadata": {},
   "source": [
    "#  Term Project - Space Mission Dataset Extension\n",
    "We use the Global Space Mission Launches dataset. This data provides historical records of launch events, locations, companies, rocket types, and success status. According to the dataset, we implement a simple linear regression to analyze the X independent variable and the y dependent variable, and explore the analysis of Homoscedasticity and R-Squared Measure."
   ]
  },
  {
   "cell_type": "markdown",
   "id": "14e616e4",
   "metadata": {},
   "source": [
    "## Step1: Load dataset"
   ]
  },
  {
   "cell_type": "code",
   "execution_count": 5,
   "id": "768ced72",
   "metadata": {},
   "outputs": [
    {
     "data": {
      "application/vnd.microsoft.datawrangler.viewer.v0+json": {
       "columns": [
        {
         "name": "index",
         "rawType": "int64",
         "type": "integer"
        },
        {
         "name": "Unnamed: 0.1",
         "rawType": "int64",
         "type": "integer"
        },
        {
         "name": "Unnamed: 0",
         "rawType": "int64",
         "type": "integer"
        },
        {
         "name": "Company Name",
         "rawType": "object",
         "type": "string"
        },
        {
         "name": "Location",
         "rawType": "object",
         "type": "string"
        },
        {
         "name": "Datum",
         "rawType": "object",
         "type": "string"
        },
        {
         "name": "Detail",
         "rawType": "object",
         "type": "string"
        },
        {
         "name": "Status Rocket",
         "rawType": "object",
         "type": "string"
        },
        {
         "name": " Rocket",
         "rawType": "object",
         "type": "unknown"
        },
        {
         "name": "Status Mission",
         "rawType": "object",
         "type": "string"
        }
       ],
       "ref": "5b9ff146-bbb0-4f48-8a10-bd52cd43d361",
       "rows": [
        [
         "0",
         "0",
         "0",
         "SpaceX",
         "LC-39A, Kennedy Space Center, Florida, USA",
         "Fri Aug 07, 2020 05:12 UTC",
         "Falcon 9 Block 5 | Starlink V1 L9 & BlackSky",
         "StatusActive",
         "50.0 ",
         "Success"
        ],
        [
         "1",
         "1",
         "1",
         "CASC",
         "Site 9401 (SLS-2), Jiuquan Satellite Launch Center, China",
         "Thu Aug 06, 2020 04:01 UTC",
         "Long March 2D | Gaofen-9 04 & Q-SAT",
         "StatusActive",
         "29.75 ",
         "Success"
        ],
        [
         "2",
         "2",
         "2",
         "SpaceX",
         "Pad A, Boca Chica, Texas, USA",
         "Tue Aug 04, 2020 23:57 UTC",
         "Starship Prototype | 150 Meter Hop",
         "StatusActive",
         null,
         "Success"
        ],
        [
         "3",
         "3",
         "3",
         "Roscosmos",
         "Site 200/39, Baikonur Cosmodrome, Kazakhstan",
         "Thu Jul 30, 2020 21:25 UTC",
         "Proton-M/Briz-M | Ekspress-80 & Ekspress-103",
         "StatusActive",
         "65.0 ",
         "Success"
        ],
        [
         "4",
         "4",
         "4",
         "ULA",
         "SLC-41, Cape Canaveral AFS, Florida, USA",
         "Thu Jul 30, 2020 11:50 UTC",
         "Atlas V 541 | Perseverance",
         "StatusActive",
         "145.0 ",
         "Success"
        ]
       ],
       "shape": {
        "columns": 9,
        "rows": 5
       }
      },
      "text/html": [
       "<div>\n",
       "<style scoped>\n",
       "    .dataframe tbody tr th:only-of-type {\n",
       "        vertical-align: middle;\n",
       "    }\n",
       "\n",
       "    .dataframe tbody tr th {\n",
       "        vertical-align: top;\n",
       "    }\n",
       "\n",
       "    .dataframe thead th {\n",
       "        text-align: right;\n",
       "    }\n",
       "</style>\n",
       "<table border=\"1\" class=\"dataframe\">\n",
       "  <thead>\n",
       "    <tr style=\"text-align: right;\">\n",
       "      <th></th>\n",
       "      <th>Unnamed: 0.1</th>\n",
       "      <th>Unnamed: 0</th>\n",
       "      <th>Company Name</th>\n",
       "      <th>Location</th>\n",
       "      <th>Datum</th>\n",
       "      <th>Detail</th>\n",
       "      <th>Status Rocket</th>\n",
       "      <th>Rocket</th>\n",
       "      <th>Status Mission</th>\n",
       "    </tr>\n",
       "  </thead>\n",
       "  <tbody>\n",
       "    <tr>\n",
       "      <th>0</th>\n",
       "      <td>0</td>\n",
       "      <td>0</td>\n",
       "      <td>SpaceX</td>\n",
       "      <td>LC-39A, Kennedy Space Center, Florida, USA</td>\n",
       "      <td>Fri Aug 07, 2020 05:12 UTC</td>\n",
       "      <td>Falcon 9 Block 5 | Starlink V1 L9 &amp; BlackSky</td>\n",
       "      <td>StatusActive</td>\n",
       "      <td>50.0</td>\n",
       "      <td>Success</td>\n",
       "    </tr>\n",
       "    <tr>\n",
       "      <th>1</th>\n",
       "      <td>1</td>\n",
       "      <td>1</td>\n",
       "      <td>CASC</td>\n",
       "      <td>Site 9401 (SLS-2), Jiuquan Satellite Launch Ce...</td>\n",
       "      <td>Thu Aug 06, 2020 04:01 UTC</td>\n",
       "      <td>Long March 2D | Gaofen-9 04 &amp; Q-SAT</td>\n",
       "      <td>StatusActive</td>\n",
       "      <td>29.75</td>\n",
       "      <td>Success</td>\n",
       "    </tr>\n",
       "    <tr>\n",
       "      <th>2</th>\n",
       "      <td>2</td>\n",
       "      <td>2</td>\n",
       "      <td>SpaceX</td>\n",
       "      <td>Pad A, Boca Chica, Texas, USA</td>\n",
       "      <td>Tue Aug 04, 2020 23:57 UTC</td>\n",
       "      <td>Starship Prototype | 150 Meter Hop</td>\n",
       "      <td>StatusActive</td>\n",
       "      <td>NaN</td>\n",
       "      <td>Success</td>\n",
       "    </tr>\n",
       "    <tr>\n",
       "      <th>3</th>\n",
       "      <td>3</td>\n",
       "      <td>3</td>\n",
       "      <td>Roscosmos</td>\n",
       "      <td>Site 200/39, Baikonur Cosmodrome, Kazakhstan</td>\n",
       "      <td>Thu Jul 30, 2020 21:25 UTC</td>\n",
       "      <td>Proton-M/Briz-M | Ekspress-80 &amp; Ekspress-103</td>\n",
       "      <td>StatusActive</td>\n",
       "      <td>65.0</td>\n",
       "      <td>Success</td>\n",
       "    </tr>\n",
       "    <tr>\n",
       "      <th>4</th>\n",
       "      <td>4</td>\n",
       "      <td>4</td>\n",
       "      <td>ULA</td>\n",
       "      <td>SLC-41, Cape Canaveral AFS, Florida, USA</td>\n",
       "      <td>Thu Jul 30, 2020 11:50 UTC</td>\n",
       "      <td>Atlas V 541 | Perseverance</td>\n",
       "      <td>StatusActive</td>\n",
       "      <td>145.0</td>\n",
       "      <td>Success</td>\n",
       "    </tr>\n",
       "  </tbody>\n",
       "</table>\n",
       "</div>"
      ],
      "text/plain": [
       "   Unnamed: 0.1  Unnamed: 0 Company Name  \\\n",
       "0             0           0       SpaceX   \n",
       "1             1           1         CASC   \n",
       "2             2           2       SpaceX   \n",
       "3             3           3    Roscosmos   \n",
       "4             4           4          ULA   \n",
       "\n",
       "                                            Location  \\\n",
       "0         LC-39A, Kennedy Space Center, Florida, USA   \n",
       "1  Site 9401 (SLS-2), Jiuquan Satellite Launch Ce...   \n",
       "2                      Pad A, Boca Chica, Texas, USA   \n",
       "3       Site 200/39, Baikonur Cosmodrome, Kazakhstan   \n",
       "4           SLC-41, Cape Canaveral AFS, Florida, USA   \n",
       "\n",
       "                        Datum                                        Detail  \\\n",
       "0  Fri Aug 07, 2020 05:12 UTC  Falcon 9 Block 5 | Starlink V1 L9 & BlackSky   \n",
       "1  Thu Aug 06, 2020 04:01 UTC           Long March 2D | Gaofen-9 04 & Q-SAT   \n",
       "2  Tue Aug 04, 2020 23:57 UTC            Starship Prototype | 150 Meter Hop   \n",
       "3  Thu Jul 30, 2020 21:25 UTC  Proton-M/Briz-M | Ekspress-80 & Ekspress-103   \n",
       "4  Thu Jul 30, 2020 11:50 UTC                    Atlas V 541 | Perseverance   \n",
       "\n",
       "  Status Rocket  Rocket Status Mission  \n",
       "0  StatusActive   50.0         Success  \n",
       "1  StatusActive  29.75         Success  \n",
       "2  StatusActive     NaN        Success  \n",
       "3  StatusActive   65.0         Success  \n",
       "4  StatusActive  145.0         Success  "
      ]
     },
     "execution_count": 5,
     "metadata": {},
     "output_type": "execute_result"
    }
   ],
   "source": [
    "# Import library\n",
    "import pandas as pd\n",
    "\n",
    "# Load a CSV file into a DataFrame\n",
    "df = pd.read_csv('./data/Space_Corrected.csv')\n",
    "\n",
    "# Display the first few rows of the DataFrame\n",
    "df.head()"
   ]
  },
  {
   "cell_type": "markdown",
   "id": "e78bad01",
   "metadata": {},
   "source": [
    "## Step2: Clean dataset and check missing values"
   ]
  },
  {
   "cell_type": "code",
   "execution_count": 8,
   "id": "1f422bab",
   "metadata": {},
   "outputs": [
    {
     "data": {
      "application/vnd.microsoft.datawrangler.viewer.v0+json": {
       "columns": [
        {
         "name": "index",
         "rawType": "int64",
         "type": "integer"
        },
        {
         "name": "Company Name",
         "rawType": "object",
         "type": "string"
        },
        {
         "name": "Location",
         "rawType": "object",
         "type": "string"
        },
        {
         "name": "Datum",
         "rawType": "datetime64[ns, UTC]",
         "type": "unknown"
        },
        {
         "name": "Detail",
         "rawType": "object",
         "type": "string"
        },
        {
         "name": "Status Rocket",
         "rawType": "object",
         "type": "string"
        },
        {
         "name": "Rocket",
         "rawType": "float64",
         "type": "float"
        },
        {
         "name": "Status Mission",
         "rawType": "object",
         "type": "string"
        },
        {
         "name": "Success",
         "rawType": "int64",
         "type": "integer"
        },
        {
         "name": "Company Code",
         "rawType": "int64",
         "type": "integer"
        }
       ],
       "ref": "78b641b3-2150-4e5f-8dfb-401961d5a388",
       "rows": [
        [
         "0",
         "SpaceX",
         "LC-39A, Kennedy Space Center, Florida, USA",
         "2020-08-07 05:12:00+00:00",
         "Falcon 9 Block 5 | Starlink V1 L9 & BlackSky",
         "StatusActive",
         "50.0",
         "Success",
         "1",
         "18"
        ],
        [
         "1",
         "CASC",
         "Site 9401 (SLS-2), Jiuquan Satellite Launch Center, China",
         "2020-08-06 04:01:00+00:00",
         "Long March 2D | Gaofen-9 04 & Q-SAT",
         "StatusActive",
         "29.75",
         "Success",
         "1",
         "2"
        ],
        [
         "3",
         "Roscosmos",
         "Site 200/39, Baikonur Cosmodrome, Kazakhstan",
         "2020-07-30 21:25:00+00:00",
         "Proton-M/Briz-M | Ekspress-80 & Ekspress-103",
         "StatusActive",
         "65.0",
         "Success",
         "1",
         "17"
        ],
        [
         "4",
         "ULA",
         "SLC-41, Cape Canaveral AFS, Florida, USA",
         "2020-07-30 11:50:00+00:00",
         "Atlas V 541 | Perseverance",
         "StatusActive",
         "145.0",
         "Success",
         "1",
         "19"
        ],
        [
         "5",
         "CASC",
         "LC-9, Taiyuan Satellite Launch Center, China",
         "2020-07-25 03:13:00+00:00",
         "Long March 4B | Ziyuan-3 03, Apocalypse-10 & NJU-HKU 1",
         "StatusActive",
         "64.68",
         "Success",
         "1",
         "2"
        ]
       ],
       "shape": {
        "columns": 9,
        "rows": 5
       }
      },
      "text/html": [
       "<div>\n",
       "<style scoped>\n",
       "    .dataframe tbody tr th:only-of-type {\n",
       "        vertical-align: middle;\n",
       "    }\n",
       "\n",
       "    .dataframe tbody tr th {\n",
       "        vertical-align: top;\n",
       "    }\n",
       "\n",
       "    .dataframe thead th {\n",
       "        text-align: right;\n",
       "    }\n",
       "</style>\n",
       "<table border=\"1\" class=\"dataframe\">\n",
       "  <thead>\n",
       "    <tr style=\"text-align: right;\">\n",
       "      <th></th>\n",
       "      <th>Company Name</th>\n",
       "      <th>Location</th>\n",
       "      <th>Datum</th>\n",
       "      <th>Detail</th>\n",
       "      <th>Status Rocket</th>\n",
       "      <th>Rocket</th>\n",
       "      <th>Status Mission</th>\n",
       "      <th>Success</th>\n",
       "      <th>Company Code</th>\n",
       "    </tr>\n",
       "  </thead>\n",
       "  <tbody>\n",
       "    <tr>\n",
       "      <th>0</th>\n",
       "      <td>SpaceX</td>\n",
       "      <td>LC-39A, Kennedy Space Center, Florida, USA</td>\n",
       "      <td>2020-08-07 05:12:00+00:00</td>\n",
       "      <td>Falcon 9 Block 5 | Starlink V1 L9 &amp; BlackSky</td>\n",
       "      <td>StatusActive</td>\n",
       "      <td>50.00</td>\n",
       "      <td>Success</td>\n",
       "      <td>1</td>\n",
       "      <td>18</td>\n",
       "    </tr>\n",
       "    <tr>\n",
       "      <th>1</th>\n",
       "      <td>CASC</td>\n",
       "      <td>Site 9401 (SLS-2), Jiuquan Satellite Launch Ce...</td>\n",
       "      <td>2020-08-06 04:01:00+00:00</td>\n",
       "      <td>Long March 2D | Gaofen-9 04 &amp; Q-SAT</td>\n",
       "      <td>StatusActive</td>\n",
       "      <td>29.75</td>\n",
       "      <td>Success</td>\n",
       "      <td>1</td>\n",
       "      <td>2</td>\n",
       "    </tr>\n",
       "    <tr>\n",
       "      <th>3</th>\n",
       "      <td>Roscosmos</td>\n",
       "      <td>Site 200/39, Baikonur Cosmodrome, Kazakhstan</td>\n",
       "      <td>2020-07-30 21:25:00+00:00</td>\n",
       "      <td>Proton-M/Briz-M | Ekspress-80 &amp; Ekspress-103</td>\n",
       "      <td>StatusActive</td>\n",
       "      <td>65.00</td>\n",
       "      <td>Success</td>\n",
       "      <td>1</td>\n",
       "      <td>17</td>\n",
       "    </tr>\n",
       "    <tr>\n",
       "      <th>4</th>\n",
       "      <td>ULA</td>\n",
       "      <td>SLC-41, Cape Canaveral AFS, Florida, USA</td>\n",
       "      <td>2020-07-30 11:50:00+00:00</td>\n",
       "      <td>Atlas V 541 | Perseverance</td>\n",
       "      <td>StatusActive</td>\n",
       "      <td>145.00</td>\n",
       "      <td>Success</td>\n",
       "      <td>1</td>\n",
       "      <td>19</td>\n",
       "    </tr>\n",
       "    <tr>\n",
       "      <th>5</th>\n",
       "      <td>CASC</td>\n",
       "      <td>LC-9, Taiyuan Satellite Launch Center, China</td>\n",
       "      <td>2020-07-25 03:13:00+00:00</td>\n",
       "      <td>Long March 4B | Ziyuan-3 03, Apocalypse-10 &amp; N...</td>\n",
       "      <td>StatusActive</td>\n",
       "      <td>64.68</td>\n",
       "      <td>Success</td>\n",
       "      <td>1</td>\n",
       "      <td>2</td>\n",
       "    </tr>\n",
       "  </tbody>\n",
       "</table>\n",
       "</div>"
      ],
      "text/plain": [
       "  Company Name                                           Location  \\\n",
       "0       SpaceX         LC-39A, Kennedy Space Center, Florida, USA   \n",
       "1         CASC  Site 9401 (SLS-2), Jiuquan Satellite Launch Ce...   \n",
       "3    Roscosmos       Site 200/39, Baikonur Cosmodrome, Kazakhstan   \n",
       "4          ULA           SLC-41, Cape Canaveral AFS, Florida, USA   \n",
       "5         CASC       LC-9, Taiyuan Satellite Launch Center, China   \n",
       "\n",
       "                      Datum  \\\n",
       "0 2020-08-07 05:12:00+00:00   \n",
       "1 2020-08-06 04:01:00+00:00   \n",
       "3 2020-07-30 21:25:00+00:00   \n",
       "4 2020-07-30 11:50:00+00:00   \n",
       "5 2020-07-25 03:13:00+00:00   \n",
       "\n",
       "                                              Detail Status Rocket  Rocket  \\\n",
       "0       Falcon 9 Block 5 | Starlink V1 L9 & BlackSky  StatusActive   50.00   \n",
       "1                Long March 2D | Gaofen-9 04 & Q-SAT  StatusActive   29.75   \n",
       "3       Proton-M/Briz-M | Ekspress-80 & Ekspress-103  StatusActive   65.00   \n",
       "4                         Atlas V 541 | Perseverance  StatusActive  145.00   \n",
       "5  Long March 4B | Ziyuan-3 03, Apocalypse-10 & N...  StatusActive   64.68   \n",
       "\n",
       "  Status Mission  Success  Company Code  \n",
       "0        Success        1            18  \n",
       "1        Success        1             2  \n",
       "3        Success        1            17  \n",
       "4        Success        1            19  \n",
       "5        Success        1             2  "
      ]
     },
     "execution_count": 8,
     "metadata": {},
     "output_type": "execute_result"
    }
   ],
   "source": [
    "# Import library\n",
    "from sklearn.preprocessing import LabelEncoder\n",
    "\n",
    "# Define a class for cleaning the space mission dataset\n",
    "class SpaceMissionCleaner:\n",
    "    def __init__(self, df):\n",
    "        self.df = df\n",
    "\n",
    "    def clean(self):\n",
    "        df = self.df.copy()\n",
    "        df.columns = df.columns.str.strip()\n",
    "        df.drop(columns=['Unnamed: 0', 'Unnamed: 0.1'], inplace=True, errors='ignore')\n",
    "        df['Datum'] = pd.to_datetime(df['Datum'], errors='coerce')\n",
    "        df.dropna(inplace=True)\n",
    "        df['Rocket'] = pd.to_numeric(df['Rocket'], errors='coerce')\n",
    "        df = df[df['Rocket'] > 0]\n",
    "        df['Success'] = df['Status Mission'].apply(lambda x: 1 if 'Success' in x else 0)\n",
    "        df['Company Code'] = LabelEncoder().fit_transform(df['Company Name'])\n",
    "        return df\n",
    " \n",
    "df_clean = SpaceMissionCleaner(df).clean()\n",
    "df_clean.head()"
   ]
  },
  {
   "cell_type": "code",
   "execution_count": 9,
   "id": "d5fcf558",
   "metadata": {},
   "outputs": [
    {
     "name": "stdout",
     "output_type": "stream",
     "text": [
      "Missing values in each column:\n",
      "Company Name      0\n",
      "Location          0\n",
      "Datum             0\n",
      "Detail            0\n",
      "Status Rocket     0\n",
      "Rocket            0\n",
      "Status Mission    0\n",
      "Success           0\n",
      "Company Code      0\n",
      "dtype: int64\n",
      "\n",
      "\n",
      "Data types of each column:\n",
      "<class 'pandas.core.frame.DataFrame'>\n",
      "Index: 943 entries, 0 to 4020\n",
      "Data columns (total 9 columns):\n",
      " #   Column          Non-Null Count  Dtype              \n",
      "---  ------          --------------  -----              \n",
      " 0   Company Name    943 non-null    object             \n",
      " 1   Location        943 non-null    object             \n",
      " 2   Datum           943 non-null    datetime64[ns, UTC]\n",
      " 3   Detail          943 non-null    object             \n",
      " 4   Status Rocket   943 non-null    object             \n",
      " 5   Rocket          943 non-null    float64            \n",
      " 6   Status Mission  943 non-null    object             \n",
      " 7   Success         943 non-null    int64              \n",
      " 8   Company Code    943 non-null    int64              \n",
      "dtypes: datetime64[ns, UTC](1), float64(1), int64(2), object(5)\n",
      "memory usage: 73.7+ KB\n",
      "None\n"
     ]
    }
   ],
   "source": [
    "# Check for missing values\n",
    "missing_values = df_clean.isnull().sum()\n",
    "print(\"Missing values in each column:\")\n",
    "print(missing_values)\n",
    "print(\"\\n\")\n",
    "\n",
    "# Check the data types of each column\n",
    "print(\"Data types of each column:\")\n",
    "print(df_clean.info())"
   ]
  },
  {
   "cell_type": "markdown",
   "id": "8fe41e5f",
   "metadata": {},
   "source": [
    "## Step 3: Implement a Simple Linear Regression\n",
    "(1) Company vs Space Missions Success"
   ]
  },
  {
   "cell_type": "code",
   "execution_count": 10,
   "id": "681ee6b4",
   "metadata": {},
   "outputs": [
    {
     "name": "stdout",
     "output_type": "stream",
     "text": [
      "Success Rate per Rocket Cost Bin:\n",
      "                    Rocket_bin   Success Rocket_Median\n",
      "0  (5.2989999999999995, 29.15]  0.875000       17.2245\n",
      "1                (29.15, 31.0]  0.978261       30.0750\n",
      "2                 (31.0, 40.0]  0.920455       35.5000\n",
      "3                 (40.0, 50.0]  0.899160       45.0000\n",
      "4                 (50.0, 62.0]  0.951807       56.0000\n",
      "5                 (62.0, 85.0]  0.929412       73.5000\n",
      "6                (85.0, 120.0]  0.989011      102.5000\n",
      "7               (120.0, 200.0]  0.977612      160.0000\n",
      "8               (200.0, 450.0]  0.979592      325.0000\n"
     ]
    }
   ],
   "source": [
    "# Define a class for rocket cost and success analyzer\n",
    "class RocketSuccessAnalyzer:\n",
    "    def __init__(self, df, rocket_col='Rocket', success_col='Success'):\n",
    "        self.df = df.copy()\n",
    "        self.rocket_col = rocket_col\n",
    "        self.success_col = success_col\n",
    "        self.binned_data = None # Stores the DataFrame after binning\n",
    "        self.success_rate_by_bin = None # Stores the success rate calculated per bin\n",
    "\n",
    "    def bin_rocket_cost(self, bins=10, duplicates='drop'):\n",
    "        self.df['Rocket_bin'] = pd.qcut(self.df[self.rocket_col], q=bins, duplicates=duplicates)\n",
    "        return self.df\n",
    "\n",
    "    def calc_success_rate_per_bin(self):\n",
    "        success_rate_by_rocket = self.df.groupby('Rocket_bin', observed=True)[self.success_col].mean().reset_index()\n",
    "        success_rate_by_rocket['Rocket_Median'] = success_rate_by_rocket['Rocket_bin'].apply(lambda x: x.mid)\n",
    "        self.binned_df = success_rate_by_rocket\n",
    "        return success_rate_by_rocket\n",
    "\n",
    "\n",
    "# Initialize the analysis object\n",
    "analyzer = RocketSuccessAnalyzer(df_clean)\n",
    "\n",
    "# Binning\n",
    "analyzer.bin_rocket_cost(bins=10)\n",
    "\n",
    "# Calculate the success rate (including the median rocket cost)\n",
    "success_rate_per_bin_df = analyzer.calc_success_rate_per_bin()\n",
    "\n",
    "# Display the success rate per bin\n",
    "print(\"Success Rate per Rocket Cost Bin:\")\n",
    "print(success_rate_per_bin_df)"
   ]
  },
  {
   "cell_type": "code",
   "execution_count": 13,
   "id": "1427132d",
   "metadata": {},
   "outputs": [
    {
     "name": "stdout",
     "output_type": "stream",
     "text": [
      "Intercept: 0.9226998526852046\n",
      "Slope: 0.0002320197447846532\n"
     ]
    }
   ],
   "source": [
    "# Import library and function\n",
    "from sklearn.linear_model import LinearRegression\n",
    "import matplotlib.pyplot as plt\n",
    "\n",
    "# Define X independent variable and y dependent variable\n",
    "X = success_rate_per_bin_df[['Rocket_Median']] # continuous numerical substitution\n",
    "y = success_rate_per_bin_df['Success']\n",
    "\n",
    "# Create and fit the linear regression model\n",
    "model = LinearRegression()\n",
    "model.fit(X, y)\n",
    "\n",
    "# Predicting 'Rocket_Median' with the Model\n",
    "y_pred = model.predict(X)\n",
    "\n",
    "# Display the model's intercept and coefficient\n",
    "print(\"Intercept:\", model.intercept_)\n",
    "print(\"Slope:\", model.coef_[0])"
   ]
  },
  {
   "cell_type": "markdown",
   "id": "fecc6b22",
   "metadata": {},
   "source": [
    "- Intercept is about 0.9227. Indicates that when the rocket cost approaches 0 (theoretically unlikely), the estimated mission success rate is about 92.27%. If the cost is extremely low, maybe this model's baseline success rate.\n",
    "- The slope is about 0.000232. Indicates that for every unit increase in rocket cost (assuming the same currency unit), the mission success rate increases by about 0.0232%. In this case, the slope is very small. Even with the cost increases, the success rate increases very slowly."
   ]
  },
  {
   "cell_type": "code",
   "execution_count": 14,
   "id": "68c5992b",
   "metadata": {},
   "outputs": [
    {
     "data": {
      "image/png": "[encoded data removed]",
      "text/plain": [
       "<Figure size 800x500 with 1 Axes>"
      ]
     },
     "metadata": {},
     "output_type": "display_data"
    }
   ],
   "source": [
    "# Define a class for plotting linear regression results\n",
    "class RegressionPlotter:\n",
    "    def __init__(self, X, y, y_pred):\n",
    "        self.X = X\n",
    "        self.y = y\n",
    "        self.y_pred = y_pred\n",
    "\n",
    "    def plot_regression(self):\n",
    "        plt.figure(figsize=(8,5))\n",
    "        plt.scatter(self.X, self.y, color='blue', label='Actual success rate')\n",
    "        plt.plot(self.X, self.y_pred, color='red', label='Regression prediction line')\n",
    "        plt.xlabel('Rocket median cost')\n",
    "        plt.ylabel('Rocket success rate (group average)')\n",
    "        plt.title('Simple linear regression of Rocket cost and success rate')\n",
    "        plt.legend()\n",
    "        plt.grid()\n",
    "        plt.show()\n",
    "\n",
    "# Create an instance of RegressionPlotter and plot the regression\n",
    "plotter = RegressionPlotter(X, y, y_pred)\n",
    "plotter.plot_regression()"
   ]
  },
  {
   "cell_type": "markdown",
   "id": "526c412f",
   "metadata": {},
   "source": [
    "- The blue scatter points represent the \"average success rate in the range\" corresponding to the \"median rocket cost range\" after grouping.\n",
    "- The red straight line is the fitting line of the simple linear regression model, showing the trend of success rate changing with cost.\n",
    "- The scatter points show a slight upward trend, verifying that there is a positive relationship between cost and success rate, but the trend is mild and close to flat.\n",
    "- The success rate in the low-cost and medium-high cost range is about 0.9 or above, reflecting that the overall success rate is already quite high, and the impact of rocket cost on the success rate improvement is limited."
   ]
  },
  {
   "cell_type": "markdown",
   "id": "bda3b880",
   "metadata": {},
   "source": [
    "## Step 4: Homoscedasticity "
   ]
  },
  {
   "cell_type": "code",
   "execution_count": 15,
   "id": "30588535",
   "metadata": {},
   "outputs": [
    {
     "data": {
      "image/png": "[encoded data removed]",
      "text/plain": [
       "<Figure size 800x500 with 1 Axes>"
      ]
     },
     "metadata": {},
     "output_type": "display_data"
    }
   ],
   "source": [
    "# Define a class for plotting residuals to check homoscedasticity\n",
    "class ResidualPlotter:\n",
    "    def __init__(self, y_true, y_pred):\n",
    "        self.y_true = y_true\n",
    "        self.y_pred = y_pred\n",
    "        self.residuals = self.y_true - self.y_pred\n",
    "    \n",
    "    def plot_residuals(self):\n",
    "        plt.figure(figsize=(8,5))\n",
    "        plt.scatter(self.y_pred, self.residuals, alpha=0.7)\n",
    "        plt.axhline(0, color='red', linestyle='--')\n",
    "        plt.xlabel('Predicted Success Rate')\n",
    "        plt.ylabel('Residuals')\n",
    "        plt.title('Residual Plot to Check Homoscedasticity')\n",
    "        plt.grid()\n",
    "        plt.show()\n",
    "\n",
    "# Create an instance of ResidualPlotter and plot the residuals\n",
    "plotter = ResidualPlotter(y, y_pred)\n",
    "plotter.plot_residuals()"
   ]
  },
  {
   "cell_type": "markdown",
   "id": "e5cef780",
   "metadata": {},
   "source": [
    "- The number of data points is small, which makes it difficult and uncertain to judge the pattern.\n",
    "- The residual distribution is a positive sign, with no obvious \"scalloped\" or \"funnel-shaped\" pattern observed. The model is likely to meet the assumption of Heteroscedasticity."
   ]
  },
  {
   "cell_type": "markdown",
   "id": "0ec8bc0a",
   "metadata": {},
   "source": [
    "## Step 5: R-Squared Measure"
   ]
  },
  {
   "cell_type": "code",
   "execution_count": 16,
   "id": "92ddf61c",
   "metadata": {},
   "outputs": [
    {
     "name": "stdout",
     "output_type": "stream",
     "text": [
      "R-squared: 0.3078738172869736\n"
     ]
    }
   ],
   "source": [
    "# Calculate R-squared\n",
    "r2 = model.score(X, y)\n",
    "\n",
    "# Print R-squared value\n",
    "print(\"R-squared:\", r2)"
   ]
  },
  {
   "cell_type": "markdown",
   "id": "6e5c9e45",
   "metadata": {},
   "source": [
    "The R-squared is about 30.79%, but there are still about 69.21% of the variation that cannot be captured by this simple linear regression model. There may be other important factors that affect the success rate."
   ]
  },
  {
   "cell_type": "markdown",
   "id": "b487b97e",
   "metadata": {},
   "source": [
    "(2) Company Code vs Space Missions Success Rate "
   ]
  },
  {
   "cell_type": "code",
   "execution_count": 17,
   "id": "1240d39a",
   "metadata": {},
   "outputs": [
    {
     "name": "stdout",
     "output_type": "stream",
     "text": [
      "Intercept: 0.8056137010679503\n",
      "Slope: 0.0008933616069438918\n"
     ]
    },
    {
     "data": {
      "image/png": "[encoded data removed]",
      "text/plain": [
       "<Figure size 800x500 with 1 Axes>"
      ]
     },
     "metadata": {},
     "output_type": "display_data"
    }
   ],
   "source": [
    "class CompanySuccessRegression:\n",
    "    def __init__(self, df, company_col='Company Code', success_col='Success'):\n",
    "        self.df = df.copy()\n",
    "        self.company_col = company_col\n",
    "        self.success_col = success_col\n",
    "        self.company_stats = None\n",
    "        self.model = None\n",
    "        self.y_pred = None\n",
    "\n",
    "    def prepare_success_rate(self):\n",
    "        stats = self.df.groupby(self.company_col)[self.success_col].mean().reset_index()\n",
    "        stats.columns = [self.company_col, 'Success_Rate']\n",
    "        self.company_stats = stats\n",
    "        return stats\n",
    "\n",
    "    def fit_regression(self):\n",
    "        if self.company_stats is None:\n",
    "            self.prepare_success_rate()\n",
    "        X = self.company_stats[[self.company_col]]\n",
    "        y = self.company_stats['Success_Rate']\n",
    "        self.model = LinearRegression()\n",
    "        self.model.fit(X, y)\n",
    "        self.y_pred = self.model.predict(X)\n",
    "        return self.model\n",
    "    \n",
    "    def print_params(self):\n",
    "        if self.model is None:\n",
    "            raise ValueError(\"Please run fit_regression() first.\")\n",
    "        print(f\"Intercept: {self.model.intercept_}\")\n",
    "        print(f\"Slope: {self.model.coef_[0]}\")\n",
    "\n",
    "    def plot_regression(self):\n",
    "        if self.company_stats is None or self.y_pred is None:\n",
    "            raise ValueError(\"Please run fit_regression() first.\")\n",
    "        X = self.company_stats[[self.company_col]]\n",
    "        y = self.company_stats['Success_Rate']\n",
    "\n",
    "        plt.figure(figsize=(8,5))\n",
    "        plt.scatter(X, y, color='blue', label='Actual Success Rate')\n",
    "        plt.plot(X, self.y_pred, color='red', label='Regression Line')\n",
    "        plt.xlabel('Company Code')\n",
    "        plt.ylabel('Success Rate')\n",
    "        plt.title('Simple Linear Regression: Company Code vs. Success Rate')\n",
    "        plt.legend()\n",
    "        plt.grid()\n",
    "        plt.show()\n",
    "\n",
    "reg = CompanySuccessRegression(df_clean)\n",
    "reg.prepare_success_rate()\n",
    "reg.fit_regression()\n",
    "reg.print_params()      \n",
    "reg.plot_regression()   "
   ]
  },
  {
   "cell_type": "markdown",
   "id": "dfa10526",
   "metadata": {},
   "source": [
    "(3) Year vs Space Missions Success Rate "
   ]
  },
  {
   "cell_type": "code",
   "execution_count": 18,
   "id": "c3f89751",
   "metadata": {},
   "outputs": [
    {
     "name": "stdout",
     "output_type": "stream",
     "text": [
      "Intercept: -1.0283968704294315\n",
      "Slope: 0.0009818886179571015\n"
     ]
    },
    {
     "data": {
      "image/png": "[encoded data removed]",
      "text/plain": [
       "<Figure size 1000x600 with 1 Axes>"
      ]
     },
     "metadata": {},
     "output_type": "display_data"
    }
   ],
   "source": [
    "class YearlySuccessRegression:\n",
    "    def __init__(self, df, date_col='Datum', success_col='Success'):\n",
    "        self.df = df.copy()\n",
    "        self.date_col = date_col\n",
    "        self.success_col = success_col\n",
    "        self.yearly_stats = None\n",
    "        self.model = None\n",
    "        self.y_pred = None\n",
    "\n",
    "    def prepare_yearly_success_rate(self):\n",
    "        self.df['Year'] = pd.to_datetime(self.df[self.date_col]).dt.year\n",
    "        stats = self.df.groupby('Year')[self.success_col].mean().reset_index()\n",
    "        stats.columns = ['Year', 'Success_Rate']\n",
    "        self.yearly_stats = stats\n",
    "        return stats\n",
    "\n",
    "    def fit_regression(self):\n",
    "        if self.yearly_stats is None:\n",
    "            self.prepare_yearly_success_rate()\n",
    "        X = self.yearly_stats[['Year']]\n",
    "        y = self.yearly_stats['Success_Rate']\n",
    "        self.model = LinearRegression()\n",
    "        self.model.fit(X, y)\n",
    "        self.y_pred = self.model.predict(X)\n",
    "        return self.model\n",
    "    \n",
    "    def print_params(self):\n",
    "        if self.model is None:\n",
    "            raise ValueError(\"Please run fit_regression() first.\")\n",
    "        print(f\"Intercept: {self.model.intercept_}\")\n",
    "        print(f\"Slope: {self.model.coef_[0]}\")\n",
    "\n",
    "    def plot_regression(self):\n",
    "        if self.yearly_stats is None or self.y_pred is None:\n",
    "            raise ValueError(\"Please run fit_regression() first.\")\n",
    "        X = self.yearly_stats['Year']\n",
    "        y = self.yearly_stats['Success_Rate']\n",
    "\n",
    "        plt.figure(figsize=(10,6))\n",
    "        plt.scatter(X, y, color='blue', label='Actual Success Rate')\n",
    "        plt.plot(X, self.y_pred, color='red', label='Regression Line')\n",
    "        plt.xlabel('Year')\n",
    "        plt.ylabel('Success Rate')\n",
    "        plt.title('Simple Linear Regression: Year vs. Success Rate')\n",
    "        plt.legend()\n",
    "        plt.grid()\n",
    "        plt.show()\n",
    "\n",
    "reg = YearlySuccessRegression(df_clean)\n",
    "reg.prepare_yearly_success_rate()\n",
    "reg.fit_regression()\n",
    "reg.print_params()\n",
    "reg.plot_regression()"
   ]
  }
 ],
 "metadata": {
  "kernelspec": {
   "display_name": "venv",
   "language": "python",
   "name": "python3"
  },
  "language_info": {
   "codemirror_mode": {
    "name": "ipython",
    "version": 3
   },
   "file_extension": ".py",
   "mimetype": "text/x-python",
   "name": "python",
   "nbconvert_exporter": "python",
   "pygments_lexer": "ipython3",
   "version": "3.12.8"
  }
 },
 "nbformat": 4,
 "nbformat_minor": 5
}
